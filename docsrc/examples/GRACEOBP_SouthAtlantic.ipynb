{
 "cells": [
  {
   "cell_type": "markdown",
   "metadata": {},
   "source": [
    "# Compute GRACE derived ocean bottom pressure in the South Atlantic\n",
    "\n",
    "The following notebook will compute ocean bottom pressure time series at the locations of an OBP recorder array  in the South Atlantic.\n",
    "\n",
    "Note that this notebook uses the [geoslurp tools](https://wobbly.earth/geoslurp/) to obtain filenames of the dataholdings from a local database. This can in principle be replaced by a custom filelist construction method.\n",
    "\n",
    "\n",
    "\n"
   ]
  },
  {
   "cell_type": "code",
   "execution_count": 1,
   "metadata": {},
   "outputs": [],
   "source": [
    "%load_ext autoreload\n",
    "%autoreload 2\n",
    "\n"
   ]
  },
  {
   "cell_type": "code",
   "execution_count": 2,
   "metadata": {},
   "outputs": [],
   "source": [
    "from frommle.core.logger import setInfoLevel\n",
    "setInfoLevel()"
   ]
  },
  {
   "cell_type": "code",
   "execution_count": 3,
   "metadata": {
    "pixiedust": {
     "displayParams": {}
    }
   },
   "outputs": [],
   "source": [
    "from geoslurp.db import geoslurpConnect\n",
    "from geoslurp.discover.gravity import queryStatic,queryGRACE\n",
    "import os\n",
    "pgcon=geoslurpConnect()\n",
    "\n",
    "\n",
    "#extract a static gravity file to be used as a background model\n",
    "# staticgravfile=queryStatic(pgcon,\"GOCO06s\").first().uri\n",
    "\n",
    "\n",
    "#also construct a list of GRACE filenames and corresponding GAD names\n",
    "\n",
    "# for entry in queryGRACE(pgcon,\"gracel2_jpl_rl06\",withAtm=True,withOceAtm=True,withOce=True,withSurfP=True):\n",
    "#     print(entry.tstart,os.path.basename(entry.gsm),os.path.basename(entry.gad))\n",
    "\n",
    "gsmfiles=[x.gsm for x in queryGRACE(pgcon,\"gracel2_gfz_rl06\")]\n",
    "\n",
    "\n",
    "\n"
   ]
  },
  {
   "cell_type": "code",
   "execution_count": 4,
   "metadata": {},
   "outputs": [
    {
     "name": "stderr",
     "output_type": "stream",
     "text": [
      "Frommle-INFO: Appending data from file /shares/nis/apmg/geoslurp/gravity/gracel2_gfz_rl06/GSM-2_2002095-2002120_GRAC_GFZOP_BA01_0600.gz\n",
      "Frommle-INFO: Appending data from file /shares/nis/apmg/geoslurp/gravity/gracel2_gfz_rl06/GSM-2_2002122-2002137_GRAC_GFZOP_BA01_0600.gz\n",
      "Frommle-INFO: Appending data from file /shares/nis/apmg/geoslurp/gravity/gracel2_gfz_rl06/GSM-2_2002213-2002243_GRAC_GFZOP_BA01_0600.gz\n",
      "Frommle-INFO: Appending data from file /shares/nis/apmg/geoslurp/gravity/gracel2_gfz_rl06/GSM-2_2002244-2002273_GRAC_GFZOP_BA01_0600.gz\n",
      "Frommle-INFO: Appending data from file /shares/nis/apmg/geoslurp/gravity/gracel2_gfz_rl06/GSM-2_2002274-2002304_GRAC_GFZOP_BA01_0600.gz\n",
      "Frommle-INFO: Appending data from file /shares/nis/apmg/geoslurp/gravity/gracel2_gfz_rl06/GSM-2_2002305-2002334_GRAC_GFZOP_BA01_0600.gz\n",
      "Frommle-INFO: Appending data from file /shares/nis/apmg/geoslurp/gravity/gracel2_gfz_rl06/GSM-2_2002335-2002365_GRAC_GFZOP_BA01_0600.gz\n",
      "Frommle-INFO: Appending data from file /shares/nis/apmg/geoslurp/gravity/gracel2_gfz_rl06/GSM-2_2003001-2003031_GRAC_GFZOP_BA01_0600.gz\n",
      "Frommle-INFO: Appending data from file /shares/nis/apmg/geoslurp/gravity/gracel2_gfz_rl06/GSM-2_2003032-2003059_GRAC_GFZOP_BA01_0600.gz\n",
      "Frommle-INFO: Appending data from file /shares/nis/apmg/geoslurp/gravity/gracel2_gfz_rl06/GSM-2_2003060-2003090_GRAC_GFZOP_BA01_0600.gz\n"
     ]
    }
   ],
   "source": [
    "from frommle.io import GSMConcatArchive\n",
    "\n",
    "GSMArchive=GSMConcatArchive(gsmfiles[0:10])\n",
    "\n",
    "# tguide=GSMArchive[\"tstart\"]\n"
   ]
  },
  {
   "cell_type": "code",
   "execution_count": 5,
   "metadata": {},
   "outputs": [],
   "source": [
    "from frommle.core import makeGArray\n",
    "from frommle.sh import SHtmnGuide\n",
    "from frommle.core import PTimeGuide\n",
    "\n",
    "# gsm=makeGArray"
   ]
  },
  {
   "cell_type": "code",
   "execution_count": 6,
   "metadata": {},
   "outputs": [
    {
     "ename": "RuntimeError",
     "evalue": "/home/roelof/work2/Soft/frommle-github/src/core/frommle.hpp:52\n\tin virtual void frommle::core::Frommle::createFrom(const std::shared_ptr<frommle::core::Frommle>&) This object cannot  be created from a shared_ptr<Frommle>, implement createFrom in the derived class.",
     "output_type": "error",
     "traceback": [
      "\u001b[0;31m---------------------------------------------------------------------------\u001b[0m",
      "\u001b[0;31mRuntimeError\u001b[0m                              Traceback (most recent call last)",
      "\u001b[0;32m<ipython-input-6-c5de61cbfd9a>\u001b[0m in \u001b[0;36m<module>\u001b[0;34m\u001b[0m\n\u001b[1;32m      1\u001b[0m \u001b[0mgsm\u001b[0m\u001b[0;34m=\u001b[0m\u001b[0mmakeGArray\u001b[0m\u001b[0;34m(\u001b[0m\u001b[0mSHtmnGuide\u001b[0m\u001b[0;34m(\u001b[0m\u001b[0;34m)\u001b[0m\u001b[0;34m,\u001b[0m\u001b[0mPTimeGuide\u001b[0m\u001b[0;34m(\u001b[0m\u001b[0;34m\"tcent\"\u001b[0m\u001b[0;34m)\u001b[0m\u001b[0;34m)\u001b[0m\u001b[0;34m\u001b[0m\u001b[0;34m\u001b[0m\u001b[0m\n\u001b[0;32m----> 2\u001b[0;31m \u001b[0mgsm\u001b[0m\u001b[0;34m.\u001b[0m\u001b[0mload\u001b[0m\u001b[0;34m(\u001b[0m\u001b[0mGSMArchive\u001b[0m\u001b[0;34m)\u001b[0m\u001b[0;34m\u001b[0m\u001b[0;34m\u001b[0m\u001b[0m\n\u001b[0m",
      "\u001b[0;31mRuntimeError\u001b[0m: /home/roelof/work2/Soft/frommle-github/src/core/frommle.hpp:52\n\tin virtual void frommle::core::Frommle::createFrom(const std::shared_ptr<frommle::core::Frommle>&) This object cannot  be created from a shared_ptr<Frommle>, implement createFrom in the derived class."
     ]
    }
   ],
   "source": [
    "gsm=makeGArray(SHtmnGuide(),PTimeGuide(\"tcent\"))\n",
    "gsm.load(GSMArchive)"
   ]
  }
 ],
 "metadata": {
  "kernelspec": {
   "display_name": "pyrr",
   "language": "python",
   "name": "pyrr"
  },
  "language_info": {
   "codemirror_mode": {
    "name": "ipython",
    "version": 3
   },
   "file_extension": ".py",
   "mimetype": "text/x-python",
   "name": "python",
   "nbconvert_exporter": "python",
   "pygments_lexer": "ipython3",
   "version": "3.8.6"
  }
 },
 "nbformat": 4,
 "nbformat_minor": 4
}
